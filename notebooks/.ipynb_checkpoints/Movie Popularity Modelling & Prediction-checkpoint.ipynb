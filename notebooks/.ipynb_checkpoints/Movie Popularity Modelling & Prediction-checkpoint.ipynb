{
 "cells": [
  {
   "cell_type": "code",
   "execution_count": null,
   "metadata": {},
   "outputs": [],
   "source": []
  },
  {
   "cell_type": "code",
   "execution_count": 2,
   "metadata": {},
   "outputs": [],
   "source": [
    "import numpy as np\n",
    "import pandas as pd\n"
   ]
  },
  {
   "cell_type": "code",
   "execution_count": 3,
   "metadata": {},
   "outputs": [
    {
     "name": "stdout",
     "output_type": "stream",
     "text": [
      "<class 'pandas.core.frame.DataFrame'>\n",
      "RangeIndex: 100000 entries, 0 to 99999\n",
      "Data columns (total 4 columns):\n",
      "user_id     100000 non-null int64\n",
      "movie_id    100000 non-null int64\n",
      "rating      100000 non-null int64\n",
      "time        100000 non-null int64\n",
      "dtypes: int64(4)\n",
      "memory usage: 3.1 MB\n",
      "<class 'pandas.core.frame.DataFrame'>\n",
      "RangeIndex: 10506 entries, 0 to 10505\n",
      "Data columns (total 3 columns):\n",
      "movie_id    10506 non-null object\n",
      "title       0 non-null float64\n",
      "genre       0 non-null float64\n",
      "dtypes: float64(2), object(1)\n",
      "memory usage: 246.3+ KB\n",
      "<class 'pandas.core.frame.DataFrame'>\n",
      "RangeIndex: 16554 entries, 0 to 16553\n",
      "Data columns (total 2 columns):\n",
      "user_id       16554 non-null int64\n",
      "twitter_id    16554 non-null int64\n",
      "dtypes: int64(2)\n",
      "memory usage: 258.7 KB\n"
     ]
    }
   ],
   "source": [
    "# 1. load datasets\n",
    "rating_data = pd.io.parsers.read_csv('../sample_dataset/ratings.dat',\n",
    "                              names=['user_id', 'movie_id', 'rating', 'time'],\n",
    "                              engine='python', delimiter='::')\n",
    "movie_data = pd.io.parsers.read_csv('../sample_dataset/movies.dat',\n",
    "                                   names=['movie_id', 'title', 'genre'],\n",
    "                                   engine='python', delimiter='::')\n",
    "user_data = pd.io.parsers.read_csv('../sample_dataset/users.dat',\n",
    "                                  names=['user_id','twitter_id'],\n",
    "                                  engine='python', delimiter='::')\n",
    "\n",
    "## 1.1 check the results\n",
    "rating_data.info()\n",
    "movie_data.info()\n",
    "user_data.info()"
   ]
  },
  {
   "cell_type": "code",
   "execution_count": 7,
   "metadata": {},
   "outputs": [],
   "source": [
    "# 2. Reshape datasets for SVD ingestion\n",
    "\n",
    "## 2.1 Relationship matrix with rows as movies, columns as users, and rating as cells\n",
    "rating_mat = np.ndarray(shape = (np.max(rating_data.movie_id.values), np.max(rating_data.user_id.values)),\n",
    "                      dtype = np.uint8)\n",
    "\n",
    "rating_mat[rating_data.movie_id.values-1, rating_data.user_id.values-1] = rating_data.rating.values\n",
    "\n",
    "## 2.2 Normalise the matrix\n"
   ]
  },
  {
   "cell_type": "code",
   "execution_count": 9,
   "metadata": {},
   "outputs": [],
   "source": [
    "rating_mat_mean = np.mean(rating_mat, 1)\n",
    "\n"
   ]
  },
  {
   "cell_type": "code",
   "execution_count": 12,
   "metadata": {},
   "outputs": [
    {
     "data": {
      "text/plain": [
       "array([0.        , 0.        , 0.        , ..., 0.        , 0.        ,\n",
       "       0.00042286])"
      ]
     },
     "execution_count": 12,
     "metadata": {},
     "output_type": "execute_result"
    }
   ],
   "source": []
  },
  {
   "cell_type": "code",
   "execution_count": null,
   "metadata": {},
   "outputs": [],
   "source": []
  },
  {
   "cell_type": "code",
   "execution_count": null,
   "metadata": {},
   "outputs": [],
   "source": [
    "normalised_mat = rating_mat - np.asarray([(np.mean(rating_mat, 1))]).T\n",
    "\n"
   ]
  },
  {
   "cell_type": "code",
   "execution_count": 4,
   "metadata": {},
   "outputs": [],
   "source": [
    "## 2.3 Compute the SVD\n",
    "\n"
   ]
  },
  {
   "cell_type": "code",
   "execution_count": 5,
   "metadata": {},
   "outputs": [],
   "source": [
    "data = rating_data\n",
    "\n",
    "ratings_mat = np.ndarray(\n",
    "    shape=(np.max(data.movie_id.values), np.max(data.user_id.values)),\n",
    "    dtype=np.uint8)\n",
    "\n",
    "ratings_mat[data.movie_id.values-1, data.user_id.values-1] = data.rating.values\n"
   ]
  },
  {
   "cell_type": "code",
   "execution_count": 6,
   "metadata": {},
   "outputs": [
    {
     "data": {
      "text/plain": [
       "(3124456, 16554)"
      ]
     },
     "execution_count": 6,
     "metadata": {},
     "output_type": "execute_result"
    }
   ],
   "source": [
    "ratings_mat.shape"
   ]
  },
  {
   "cell_type": "code",
   "execution_count": null,
   "metadata": {},
   "outputs": [],
   "source": [
    "normalised_mat = ratings_mat - np.asarray([(np.mean(ratings_mat, 1))]).T"
   ]
  },
  {
   "cell_type": "code",
   "execution_count": 8,
   "metadata": {},
   "outputs": [],
   "source": [
    "?np.asarray\n"
   ]
  },
  {
   "cell_type": "code",
   "execution_count": null,
   "metadata": {},
   "outputs": [],
   "source": []
  }
 ],
 "metadata": {
  "kernelspec": {
   "display_name": "Python 3",
   "language": "python",
   "name": "python3"
  },
  "language_info": {
   "codemirror_mode": {
    "name": "ipython",
    "version": 3
   },
   "file_extension": ".py",
   "mimetype": "text/x-python",
   "name": "python",
   "nbconvert_exporter": "python",
   "pygments_lexer": "ipython3",
   "version": "3.6.8"
  }
 },
 "nbformat": 4,
 "nbformat_minor": 2
}
