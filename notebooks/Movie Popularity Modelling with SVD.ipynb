{
 "cells": [
  {
   "cell_type": "markdown",
   "metadata": {},
   "source": [
    "## Experiment script on SVD (Singular value decomposition algorithm)\n",
    "1. In normalisation step, SVD consumes a lot of memory to process only 100k table\n",
    "2. Evaluation step is quite hard to conduct, since the data is outdateda and we don't have benchmark to compare\n"
   ]
  },
  {
   "cell_type": "code",
   "execution_count": 1,
   "metadata": {},
   "outputs": [],
   "source": [
    "import numpy as np\n",
    "import pandas as pd\n"
   ]
  },
  {
   "cell_type": "code",
   "execution_count": 3,
   "metadata": {},
   "outputs": [
    {
     "name": "stdout",
     "output_type": "stream",
     "text": [
      "<class 'pandas.core.frame.DataFrame'>\n",
      "RangeIndex: 100000 entries, 0 to 99999\n",
      "Data columns (total 4 columns):\n",
      "user_id     100000 non-null int64\n",
      "movie_id    100000 non-null int64\n",
      "rating      100000 non-null int64\n",
      "time        100000 non-null int64\n",
      "dtypes: int64(4)\n",
      "memory usage: 3.1 MB\n",
      "<class 'pandas.core.frame.DataFrame'>\n",
      "RangeIndex: 10506 entries, 0 to 10505\n",
      "Data columns (total 3 columns):\n",
      "movie_id    10506 non-null object\n",
      "title       0 non-null float64\n",
      "genre       0 non-null float64\n",
      "dtypes: float64(2), object(1)\n",
      "memory usage: 246.3+ KB\n",
      "<class 'pandas.core.frame.DataFrame'>\n",
      "RangeIndex: 16554 entries, 0 to 16553\n",
      "Data columns (total 2 columns):\n",
      "user_id       16554 non-null int64\n",
      "twitter_id    16554 non-null int64\n",
      "dtypes: int64(2)\n",
      "memory usage: 258.7 KB\n"
     ]
    }
   ],
   "source": [
    "# 1. load datasets\n",
    "rating_data = pd.io.parsers.read_csv('../sample_dataset/ratings.dat',\n",
    "                              names=['user_id', 'movie_id', 'rating', 'time'],\n",
    "                              engine='python', delimiter='::')\n",
    "movie_data = pd.io.parsers.read_csv('../sample_dataset/movies.dat',\n",
    "                                   names=['movie_id', 'title', 'genre'],\n",
    "                                   engine='python', delimiter='::')\n",
    "user_data = pd.io.parsers.read_csv('../sample_dataset/users.dat',\n",
    "                                  names=['user_id','twitter_id'],\n",
    "                                  engine='python', delimiter='::')\n",
    "\n",
    "## 1.1 check the results\n",
    "rating_data.info()\n",
    "movie_data.info()\n",
    "user_data.info()"
   ]
  },
  {
   "cell_type": "code",
   "execution_count": 7,
   "metadata": {},
   "outputs": [],
   "source": [
    "# 2. Reshape datasets for SVD ingestion\n",
    "\n",
    "## 2.1 Relationship matrix with rows as movies, columns as users, and rating as cells\n",
    "rating_mat = np.ndarray(shape = (np.max(rating_data.movie_id.values), np.max(rating_data.user_id.values)),\n",
    "                      dtype = np.uint8)\n",
    "\n",
    "rating_mat[rating_data.movie_id.values-1, rating_data.user_id.values-1] = rating_data.rating.values\n"
   ]
  },
  {
   "cell_type": "code",
   "execution_count": 9,
   "metadata": {},
   "outputs": [],
   "source": [
    "## 2.2 Normalise the matrix\n",
    "tmp = np.mean(rating_mat, 1)\n",
    "rating_mat_mean = np.asarray([(rating_mat_mean)]).T\n",
    "normalised_mat = rating_mat - rating_mat_mean\n"
   ]
  },
  {
   "cell_type": "code",
   "execution_count": null,
   "metadata": {},
   "outputs": [],
   "source": [
    "# 3. Compute SVD\n",
    "A = normalised_mat.T / np.sqrt(ratings_mat.shape[0] - 1)\n",
    "U,S,V = np.linalg.svd(A)\n"
   ]
  },
  {
   "cell_type": "code",
   "execution_count": null,
   "metadata": {},
   "outputs": [],
   "source": [
    "## 3.1 Similarity func\n",
    "def top_cosine_similarity(data, movie_id, top_n=10):\n",
    "    index = movie_id - 1 # Movie id starts from 1 in the dataset\n",
    "    movie_row = data[index, :]\n",
    "    magnitude = np.sqrt(np.einsum('ij, ij -> i', data, data))\n",
    "    similarity = np.dot(movie_row, data.T) / (magnitude[index] * magnitude)\n",
    "    sort_indexes = np.argsort(-similarity)\n",
    "    return sort_indexes[:top_n]\n",
    "\n",
    "## 3.2 Print results\n",
    "def print_similar_movies(movie_data, movie_id, top_indexes):\n",
    "    print('Recommendations for {0}: \\n'.format(\n",
    "    movie_data[movie_data.movie_id == movie_id].title.values[0]))\n",
    "    for id in top_indexes + 1:\n",
    "        print(movie_data[movie_data.movie_id == id].title.values[0])\n"
   ]
  },
  {
   "cell_type": "code",
   "execution_count": null,
   "metadata": {},
   "outputs": [],
   "source": [
    "# 4. Execute\n",
    "## 4.1 Set constant variables\n",
    "k = 50\n",
    "movie_id = 10 # (getting an id from movies.dat)\n",
    "top_n = 10\n",
    "sliced = V.T[:, :k] # representative data\n",
    "indexes = top_cosine_similarity(sliced, movie_id, top_n)\n",
    "\n",
    "## 4.2 Call main func\n",
    "print_similar_movies(movie_data, movie_id, indexes)\n"
   ]
  },
  {
   "cell_type": "code",
   "execution_count": 4,
   "metadata": {},
   "outputs": [],
   "source": []
  },
  {
   "cell_type": "code",
   "execution_count": 5,
   "metadata": {},
   "outputs": [],
   "source": []
  },
  {
   "cell_type": "code",
   "execution_count": null,
   "metadata": {},
   "outputs": [],
   "source": []
  },
  {
   "cell_type": "code",
   "execution_count": null,
   "metadata": {},
   "outputs": [],
   "source": []
  },
  {
   "cell_type": "code",
   "execution_count": 2,
   "metadata": {},
   "outputs": [],
   "source": []
  },
  {
   "cell_type": "code",
   "execution_count": null,
   "metadata": {},
   "outputs": [],
   "source": []
  }
 ],
 "metadata": {
  "kernelspec": {
   "display_name": "Python 3",
   "language": "python",
   "name": "python3"
  },
  "language_info": {
   "codemirror_mode": {
    "name": "ipython",
    "version": 3
   },
   "file_extension": ".py",
   "mimetype": "text/x-python",
   "name": "python",
   "nbconvert_exporter": "python",
   "pygments_lexer": "ipython3",
   "version": "3.6.8"
  }
 },
 "nbformat": 4,
 "nbformat_minor": 2
}
